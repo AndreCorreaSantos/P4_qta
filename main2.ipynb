{
 "cells": [
  {
   "cell_type": "code",
   "execution_count": 18,
   "metadata": {},
   "outputs": [
    {
     "data": {
      "text/plain": [
       "0.6412800000000003"
      ]
     },
     "execution_count": 18,
     "metadata": {},
     "output_type": "execute_result"
    }
   ],
   "source": [
    "caixas_vert = 18\n",
    "caixas_horizont = 3\n",
    "largura_jbl = 0.22\n",
    "\n",
    "caixas_total =caixas_vert*caixas_horizont\n",
    "\n",
    "altura = 1.8\n",
    "largura = largura_jbl*2\n",
    "profundidade = 0.093\n",
    "\n",
    "altura2 =  altura+(18*0.005)\n",
    "largura2 = largura+(0.01)*(caixas_horizont+1)\n",
    "profundidade2 = profundidade+(0.01)*2\n",
    "\n",
    "v1 = altura*largura*profundidade\n",
    "v2 = altura2*largura2*profundidade2\n",
    "\n",
    "densidade_pc = 1200\n",
    "v_pc = v2-v1\n",
    "\n",
    "massa_pc = v_pc*densidade_pc\n",
    "massa_por_caixa = massa_pc/caixas_total\n",
    "massa_por_caixa"
   ]
  }
 ],
 "metadata": {
  "kernelspec": {
   "display_name": "Python 3",
   "language": "python",
   "name": "python3"
  },
  "language_info": {
   "codemirror_mode": {
    "name": "ipython",
    "version": 3
   },
   "file_extension": ".py",
   "mimetype": "text/x-python",
   "name": "python",
   "nbconvert_exporter": "python",
   "pygments_lexer": "ipython3",
   "version": "3.10.6"
  },
  "orig_nbformat": 4
 },
 "nbformat": 4,
 "nbformat_minor": 2
}
